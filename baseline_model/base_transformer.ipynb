{
  "cells": [
    {
      "cell_type": "markdown",
      "id": "adc4842c",
      "metadata": {
        "id": "adc4842c"
      },
      "source": [
        "In this notebook, we create a baseline transformer model based on our decided model architecture framework. We will create functions accordingly for the training process, and train this first model as a sanity check to ensure our foundational understanding is correct...\n",
        "\n",
        "after this, we will assess our baseline transformer model and move into the second phase which is tuning of ..."
      ]
    },
    {
      "cell_type": "code",
      "execution_count": 1,
      "id": "9012ee20",
      "metadata": {
        "id": "9012ee20"
      },
      "outputs": [],
      "source": [
        "import numpy as np\n",
        "import jax\n",
        "import jax.numpy as jnp\n",
        "import optax\n",
        "import time\n",
        "import matplotlib.pyplot as plt\n",
        "\n",
        "import base_functions as fn"
      ]
    },
    {
      "cell_type": "markdown",
      "id": "4030d754",
      "metadata": {
        "id": "4030d754"
      },
      "source": [
        "# Loading the Data"
      ]
    },
    {
      "cell_type": "code",
      "execution_count": 2,
      "id": "75d76b31",
      "metadata": {
        "id": "75d76b31",
        "outputId": "135d6904-8986-4f10-83ef-796766baf317",
        "colab": {
          "base_uri": "https://localhost:8080/"
        }
      },
      "outputs": [
        {
          "output_type": "stream",
          "name": "stdout",
          "text": [
            "Training text loaded. Length: 90,000,000 characters.\n",
            "Test text loaded. Length: 5,000,000 characters.\n"
          ]
        }
      ],
      "source": [
        "# Read in training text file\n",
        "with open('./data/text8_train.txt', 'r', encoding='utf-8') as f:\n",
        "    train_text = f.read()\n",
        "print(f\"Training text loaded. Length: {len(train_text) :,} characters.\")\n",
        "\n",
        "# Read in test text file\n",
        "with open('./data/text8_test.txt', 'r', encoding='utf-8') as f:\n",
        "    test_text = f.read()\n",
        "print(f\"Test text loaded. Length: {len(test_text) :,} characters.\")"
      ]
    },
    {
      "cell_type": "code",
      "execution_count": 3,
      "id": "585d4176",
      "metadata": {
        "id": "585d4176",
        "outputId": "0bc32c99-cebe-4ebf-9a23-7e328aee0c8b",
        "colab": {
          "base_uri": "https://localhost:8080/"
        }
      },
      "outputs": [
        {
          "output_type": "stream",
          "name": "stdout",
          "text": [
            "First 500 characters of training text:\n",
            " anarchism originated as a term of abuse first used against early working class radicals including the diggers of the english revolution and the sans culottes of the french revolution whilst the term is still used in a pejorative way to describe any act that used violent means to destroy the organization of society it has also been taken up as a positive label by self defined anarchists the word anarchism is derived from the greek without archons ruler chief king anarchism as a political philoso\n"
          ]
        }
      ],
      "source": [
        "# Inspect first 500 characters of training text\n",
        "print(\"First 500 characters of training text:\")\n",
        "print(train_text[:500])"
      ]
    },
    {
      "cell_type": "code",
      "execution_count": 4,
      "id": "7fd37a2d",
      "metadata": {
        "id": "7fd37a2d",
        "outputId": "c96bb8ff-2b89-4062-f163-62c3d4cfa25b",
        "colab": {
          "base_uri": "https://localhost:8080/"
        }
      },
      "outputs": [
        {
          "output_type": "stream",
          "name": "stdout",
          "text": [
            "Unique characters in training text: 27\n"
          ]
        }
      ],
      "source": [
        "chars = sorted(set(train_text)) # unique characters in training text\n",
        "chars_to_int = {ch: i for i, ch in enumerate(chars)} # char to int mapping\n",
        "int_to_chars = {i: ch for i, ch in enumerate(chars)} # int to char mapping\n",
        "vocab_size = len(chars)\n",
        "\n",
        "print(f\"Unique characters in training text: {vocab_size}\") # should be 27, including space"
      ]
    },
    {
      "cell_type": "code",
      "execution_count": 5,
      "id": "9a969636",
      "metadata": {
        "id": "9a969636",
        "outputId": "3313262c-0730-45ab-9211-e1bed6941b7c",
        "colab": {
          "base_uri": "https://localhost:8080/"
        }
      },
      "outputs": [
        {
          "output_type": "stream",
          "name": "stdout",
          "text": [
            "Training text length: 80,999,996 characters.\n",
            "Validation text length: 9,000,004 characters.\n"
          ]
        }
      ],
      "source": [
        "train_text, val_text = fn.split_train_val(train_text, val_fraction=0.1)\n",
        "\n",
        "print(f\"Training text length: {len(train_text) :,} characters.\")\n",
        "print(f\"Validation text length: {len(val_text) :,} characters.\")"
      ]
    },
    {
      "cell_type": "markdown",
      "id": "1c28ac68",
      "metadata": {
        "id": "1c28ac68"
      },
      "source": [
        "# Model Initialisation"
      ]
    },
    {
      "cell_type": "code",
      "execution_count": 6,
      "id": "d19f06bd",
      "metadata": {
        "id": "d19f06bd"
      },
      "outputs": [],
      "source": [
        "# Define the model params\n",
        "rng = jax.random.PRNGKey(0)\n",
        "\n",
        "d_model = 128\n",
        "n_heads = 4\n",
        "n_layers = 2\n",
        "mlp_ratio = 4\n",
        "seq_len = 128\n",
        "dropout_rate = 0.0\n",
        "\n",
        "m1, params = fn.create_train_state(rng,\n",
        "        vocab_size = vocab_size,\n",
        "        d_model = d_model,\n",
        "        n_heads = n_heads,\n",
        "        n_layers = n_layers,\n",
        "        mlp_ratio = mlp_ratio,\n",
        "        seq_len = seq_len,\n",
        "        dropout = dropout_rate\n",
        ")"
      ]
    },
    {
      "cell_type": "code",
      "execution_count": 7,
      "id": "91839933",
      "metadata": {
        "id": "91839933",
        "outputId": "5c6ec417-5795-40c0-c8eb-11e2e95f9f21",
        "colab": {
          "base_uri": "https://localhost:8080/"
        }
      },
      "outputs": [
        {
          "output_type": "stream",
          "name": "stdout",
          "text": [
            "Total number of parameters in the model: 419,072\n"
          ]
        }
      ],
      "source": [
        "total_params = fn.count_parameters(params)\n",
        "\n",
        "print(f\"Total number of parameters in the model: {total_params :,}\")"
      ]
    },
    {
      "cell_type": "code",
      "execution_count": 8,
      "id": "bdc7a187",
      "metadata": {
        "id": "bdc7a187",
        "outputId": "d9b70116-4187-424c-d93a-c2878d73028a",
        "colab": {
          "base_uri": "https://localhost:8080/"
        }
      },
      "outputs": [
        {
          "output_type": "stream",
          "name": "stdout",
          "text": [
            "Logits shape: (2, 8, 27)\n"
          ]
        }
      ],
      "source": [
        "# SANITY CHECK: Test the model forward pass\n",
        "B, T = 2, 8  # Batch size and sequence length\n",
        "batch = jax.random.randint(key = rng, shape = (B, T), minval = 0, maxval = vocab_size)\n",
        "\n",
        "logits = m1.apply({\"params\": params}, batch, deterministic=False)\n",
        "print(\"Logits shape:\", logits.shape)  # Expected: (B, T, vocab)_size)"
      ]
    },
    {
      "cell_type": "markdown",
      "id": "ec22aeee",
      "metadata": {
        "id": "ec22aeee"
      },
      "source": [
        "## Initialise the optimizer"
      ]
    },
    {
      "cell_type": "code",
      "execution_count": 9,
      "id": "05d04750",
      "metadata": {
        "id": "05d04750",
        "outputId": "b9c81747-3082-4494-aae5-21cfda5ff742",
        "colab": {
          "base_uri": "https://localhost:8080/"
        }
      },
      "outputs": [
        {
          "output_type": "stream",
          "name": "stdout",
          "text": [
            "Optimizer initialized: Adam with Learning Rate = 0.001\n"
          ]
        }
      ],
      "source": [
        "# Define the learning rate\n",
        "learning_rate = 1e-3\n",
        "\n",
        "# Create the Optimizer and initialize it\n",
        "optimizer = optax.adam(learning_rate)\n",
        "opt_state = optimizer.init(params)\n",
        "\n",
        "print(\"Optimizer initialized: Adam with Learning Rate =\", learning_rate)"
      ]
    },
    {
      "cell_type": "markdown",
      "id": "b839549c",
      "metadata": {
        "id": "b839549c"
      },
      "source": [
        "## Train the model over n_iter iterations"
      ]
    },
    {
      "cell_type": "code",
      "execution_count": 10,
      "id": "1262eda3",
      "metadata": {
        "id": "1262eda3"
      },
      "outputs": [],
      "source": [
        "n_iter = 100000\n",
        "batch_size = 64\n",
        "seq_len = 32\n",
        "\n",
        "# Encode the train, val, test texts\n",
        "train_data = fn.encode(train_text, chars_to_int)\n",
        "val_data = fn.encode(val_text, chars_to_int)\n",
        "test_data = fn.encode(test_text, chars_to_int)\n",
        "\n",
        "# To track training and validation loss, as well as time taken\n",
        "train_loss_history = []\n",
        "val_loss_history = []\n",
        "train_time_history = []\n",
        "val_time_history = []"
      ]
    },
    {
      "cell_type": "code",
      "execution_count": 11,
      "id": "c7cbde26",
      "metadata": {
        "id": "c7cbde26",
        "outputId": "d079d6a5-c328-4181-f1f6-4fc11ce19d05",
        "colab": {
          "base_uri": "https://localhost:8080/"
        }
      },
      "outputs": [
        {
          "output_type": "stream",
          "name": "stdout",
          "text": [
            "Iteration 0, time elapsed: 9.05 seconds\n",
            "\t \t Training Loss: 3.8137, Validation Loss: 3.3498\n",
            "\t \t Training Acc: 0.0518, Validation Acc: 0.1585\n",
            "\t \t Last Char Training Acc: 0.0469, Last Char Validation Acc: 0.1592\n",
            "--------------------------------------------------\n",
            "Iteration 2000, time elapsed: 15.45 seconds\n",
            "\t \t Training Loss: 1.5278, Validation Loss: 1.6114\n",
            "\t \t Training Acc: 0.5288, Validation Acc: 0.5057\n",
            "\t \t Last Char Training Acc: 0.5312, Last Char Validation Acc: 0.5254\n",
            "--------------------------------------------------\n",
            "Iteration 4000, time elapsed: 25.25 seconds\n",
            "\t \t Training Loss: 1.4446, Validation Loss: 1.5521\n",
            "\t \t Training Acc: 0.5562, Validation Acc: 0.5217\n",
            "\t \t Last Char Training Acc: 0.6562, Last Char Validation Acc: 0.5225\n",
            "--------------------------------------------------\n",
            "Iteration 6000, time elapsed: 31.71 seconds\n",
            "\t \t Training Loss: 1.5279, Validation Loss: 1.5295\n",
            "\t \t Training Acc: 0.5303, Validation Acc: 0.5299\n",
            "\t \t Last Char Training Acc: 0.5000, Last Char Validation Acc: 0.5674\n",
            "--------------------------------------------------\n",
            "Iteration 8000, time elapsed: 39.64 seconds\n",
            "\t \t Training Loss: 1.4334, Validation Loss: 1.4875\n",
            "\t \t Training Acc: 0.5532, Validation Acc: 0.5392\n",
            "\t \t Last Char Training Acc: 0.5156, Last Char Validation Acc: 0.5664\n",
            "--------------------------------------------------\n",
            "Iteration 10000, time elapsed: 47.82 seconds\n",
            "\t \t Training Loss: 1.4030, Validation Loss: 1.4967\n",
            "\t \t Training Acc: 0.5679, Validation Acc: 0.5371\n",
            "\t \t Last Char Training Acc: 0.5469, Last Char Validation Acc: 0.5801\n",
            "--------------------------------------------------\n",
            "Iteration 12000, time elapsed: 54.26 seconds\n",
            "\t \t Training Loss: 1.4841, Validation Loss: 1.4774\n",
            "\t \t Training Acc: 0.5366, Validation Acc: 0.5404\n",
            "\t \t Last Char Training Acc: 0.6875, Last Char Validation Acc: 0.5469\n",
            "--------------------------------------------------\n",
            "Iteration 14000, time elapsed: 63.98 seconds\n",
            "\t \t Training Loss: 1.5235, Validation Loss: 1.4876\n",
            "\t \t Training Acc: 0.5239, Validation Acc: 0.5393\n",
            "\t \t Last Char Training Acc: 0.5000, Last Char Validation Acc: 0.5537\n",
            "--------------------------------------------------\n",
            "Iteration 16000, time elapsed: 70.42 seconds\n",
            "\t \t Training Loss: 1.4184, Validation Loss: 1.4782\n",
            "\t \t Training Acc: 0.5566, Validation Acc: 0.5430\n",
            "\t \t Last Char Training Acc: 0.5312, Last Char Validation Acc: 0.5625\n",
            "--------------------------------------------------\n",
            "Iteration 18000, time elapsed: 78.33 seconds\n",
            "\t \t Training Loss: 1.3637, Validation Loss: 1.4695\n",
            "\t \t Training Acc: 0.5781, Validation Acc: 0.5430\n",
            "\t \t Last Char Training Acc: 0.6562, Last Char Validation Acc: 0.5518\n",
            "--------------------------------------------------\n",
            "Iteration 20000, time elapsed: 86.73 seconds\n",
            "\t \t Training Loss: 1.4388, Validation Loss: 1.4524\n",
            "\t \t Training Acc: 0.5586, Validation Acc: 0.5493\n",
            "\t \t Last Char Training Acc: 0.5938, Last Char Validation Acc: 0.5908\n",
            "--------------------------------------------------\n",
            "Iteration 22000, time elapsed: 92.99 seconds\n",
            "\t \t Training Loss: 1.5399, Validation Loss: 1.4258\n",
            "\t \t Training Acc: 0.5371, Validation Acc: 0.5552\n",
            "\t \t Last Char Training Acc: 0.6250, Last Char Validation Acc: 0.5830\n",
            "--------------------------------------------------\n",
            "Iteration 24000, time elapsed: 102.75 seconds\n",
            "\t \t Training Loss: 1.4115, Validation Loss: 1.4306\n",
            "\t \t Training Acc: 0.5479, Validation Acc: 0.5531\n",
            "\t \t Last Char Training Acc: 0.6562, Last Char Validation Acc: 0.5713\n",
            "--------------------------------------------------\n",
            "Iteration 26000, time elapsed: 109.29 seconds\n",
            "\t \t Training Loss: 1.4616, Validation Loss: 1.4328\n",
            "\t \t Training Acc: 0.5303, Validation Acc: 0.5522\n",
            "\t \t Last Char Training Acc: 0.5938, Last Char Validation Acc: 0.5850\n",
            "--------------------------------------------------\n",
            "Iteration 28000, time elapsed: 116.28 seconds\n",
            "\t \t Training Loss: 1.3027, Validation Loss: 1.4310\n",
            "\t \t Training Acc: 0.5879, Validation Acc: 0.5531\n",
            "\t \t Last Char Training Acc: 0.5469, Last Char Validation Acc: 0.5684\n",
            "--------------------------------------------------\n",
            "Iteration 30000, time elapsed: 125.36 seconds\n",
            "\t \t Training Loss: 1.3871, Validation Loss: 1.4410\n",
            "\t \t Training Acc: 0.5742, Validation Acc: 0.5509\n",
            "\t \t Last Char Training Acc: 0.5000, Last Char Validation Acc: 0.5635\n",
            "--------------------------------------------------\n",
            "Iteration 32000, time elapsed: 131.72 seconds\n",
            "\t \t Training Loss: 1.4233, Validation Loss: 1.4601\n",
            "\t \t Training Acc: 0.5562, Validation Acc: 0.5492\n",
            "\t \t Last Char Training Acc: 0.7031, Last Char Validation Acc: 0.5742\n",
            "--------------------------------------------------\n",
            "Iteration 34000, time elapsed: 141.11 seconds\n",
            "\t \t Training Loss: 1.3973, Validation Loss: 1.4255\n",
            "\t \t Training Acc: 0.5698, Validation Acc: 0.5579\n",
            "\t \t Last Char Training Acc: 0.6562, Last Char Validation Acc: 0.5557\n",
            "--------------------------------------------------\n",
            "Iteration 36000, time elapsed: 148.04 seconds\n",
            "\t \t Training Loss: 1.4294, Validation Loss: 1.4410\n",
            "\t \t Training Acc: 0.5479, Validation Acc: 0.5522\n",
            "\t \t Last Char Training Acc: 0.6250, Last Char Validation Acc: 0.5820\n",
            "--------------------------------------------------\n",
            "Iteration 38000, time elapsed: 154.69 seconds\n",
            "\t \t Training Loss: 1.3167, Validation Loss: 1.4121\n",
            "\t \t Training Acc: 0.5757, Validation Acc: 0.5585\n",
            "\t \t Last Char Training Acc: 0.5469, Last Char Validation Acc: 0.6279\n",
            "--------------------------------------------------\n",
            "Iteration 40000, time elapsed: 164.07 seconds\n",
            "\t \t Training Loss: 1.4142, Validation Loss: 1.4221\n",
            "\t \t Training Acc: 0.5649, Validation Acc: 0.5593\n",
            "\t \t Last Char Training Acc: 0.5938, Last Char Validation Acc: 0.5752\n",
            "--------------------------------------------------\n",
            "Iteration 42000, time elapsed: 170.37 seconds\n",
            "\t \t Training Loss: 1.3335, Validation Loss: 1.4332\n",
            "\t \t Training Acc: 0.5674, Validation Acc: 0.5568\n",
            "\t \t Last Char Training Acc: 0.5312, Last Char Validation Acc: 0.5977\n",
            "--------------------------------------------------\n",
            "Iteration 44000, time elapsed: 179.49 seconds\n",
            "\t \t Training Loss: 1.3865, Validation Loss: 1.4060\n",
            "\t \t Training Acc: 0.5742, Validation Acc: 0.5591\n",
            "\t \t Last Char Training Acc: 0.5781, Last Char Validation Acc: 0.5762\n",
            "--------------------------------------------------\n",
            "Iteration 46000, time elapsed: 186.19 seconds\n",
            "\t \t Training Loss: 1.3600, Validation Loss: 1.4208\n",
            "\t \t Training Acc: 0.5630, Validation Acc: 0.5591\n",
            "\t \t Last Char Training Acc: 0.4531, Last Char Validation Acc: 0.5928\n",
            "--------------------------------------------------\n",
            "Iteration 48000, time elapsed: 193.01 seconds\n",
            "\t \t Training Loss: 1.3566, Validation Loss: 1.4120\n",
            "\t \t Training Acc: 0.5620, Validation Acc: 0.5600\n",
            "\t \t Last Char Training Acc: 0.5000, Last Char Validation Acc: 0.5908\n",
            "--------------------------------------------------\n",
            "Iteration 50000, time elapsed: 202.08 seconds\n",
            "\t \t Training Loss: 1.3522, Validation Loss: 1.4205\n",
            "\t \t Training Acc: 0.5791, Validation Acc: 0.5537\n",
            "\t \t Last Char Training Acc: 0.6875, Last Char Validation Acc: 0.5596\n",
            "--------------------------------------------------\n",
            "Iteration 52000, time elapsed: 208.40 seconds\n",
            "\t \t Training Loss: 1.4069, Validation Loss: 1.4013\n",
            "\t \t Training Acc: 0.5522, Validation Acc: 0.5609\n",
            "\t \t Last Char Training Acc: 0.6094, Last Char Validation Acc: 0.5820\n",
            "--------------------------------------------------\n",
            "Iteration 54000, time elapsed: 217.53 seconds\n",
            "\t \t Training Loss: 1.3937, Validation Loss: 1.4061\n",
            "\t \t Training Acc: 0.5698, Validation Acc: 0.5618\n",
            "\t \t Last Char Training Acc: 0.5625, Last Char Validation Acc: 0.5771\n",
            "--------------------------------------------------\n",
            "Iteration 56000, time elapsed: 224.24 seconds\n",
            "\t \t Training Loss: 1.4441, Validation Loss: 1.4089\n",
            "\t \t Training Acc: 0.5562, Validation Acc: 0.5622\n",
            "\t \t Last Char Training Acc: 0.5156, Last Char Validation Acc: 0.5723\n",
            "--------------------------------------------------\n",
            "Iteration 58000, time elapsed: 231.00 seconds\n",
            "\t \t Training Loss: 1.4837, Validation Loss: 1.4181\n",
            "\t \t Training Acc: 0.5522, Validation Acc: 0.5588\n",
            "\t \t Last Char Training Acc: 0.5312, Last Char Validation Acc: 0.5439\n",
            "--------------------------------------------------\n",
            "Iteration 60000, time elapsed: 240.10 seconds\n",
            "\t \t Training Loss: 1.3739, Validation Loss: 1.4086\n",
            "\t \t Training Acc: 0.5605, Validation Acc: 0.5593\n",
            "\t \t Last Char Training Acc: 0.5625, Last Char Validation Acc: 0.5615\n",
            "--------------------------------------------------\n",
            "Iteration 62000, time elapsed: 246.41 seconds\n",
            "\t \t Training Loss: 1.3680, Validation Loss: 1.3943\n",
            "\t \t Training Acc: 0.5791, Validation Acc: 0.5625\n",
            "\t \t Last Char Training Acc: 0.6094, Last Char Validation Acc: 0.5811\n",
            "--------------------------------------------------\n",
            "Iteration 64000, time elapsed: 255.49 seconds\n",
            "\t \t Training Loss: 1.3483, Validation Loss: 1.4083\n",
            "\t \t Training Acc: 0.5801, Validation Acc: 0.5591\n",
            "\t \t Last Char Training Acc: 0.5000, Last Char Validation Acc: 0.5869\n",
            "--------------------------------------------------\n",
            "Iteration 66000, time elapsed: 262.23 seconds\n",
            "\t \t Training Loss: 1.3497, Validation Loss: 1.4056\n",
            "\t \t Training Acc: 0.5703, Validation Acc: 0.5622\n",
            "\t \t Last Char Training Acc: 0.5781, Last Char Validation Acc: 0.5820\n",
            "--------------------------------------------------\n",
            "Iteration 68000, time elapsed: 268.87 seconds\n",
            "\t \t Training Loss: 1.2907, Validation Loss: 1.4027\n",
            "\t \t Training Acc: 0.5830, Validation Acc: 0.5640\n",
            "\t \t Last Char Training Acc: 0.5938, Last Char Validation Acc: 0.5625\n",
            "--------------------------------------------------\n",
            "Iteration 70000, time elapsed: 277.98 seconds\n",
            "\t \t Training Loss: 1.2884, Validation Loss: 1.4000\n",
            "\t \t Training Acc: 0.5879, Validation Acc: 0.5648\n",
            "\t \t Last Char Training Acc: 0.6719, Last Char Validation Acc: 0.6123\n",
            "--------------------------------------------------\n",
            "Iteration 72000, time elapsed: 284.28 seconds\n",
            "\t \t Training Loss: 1.3667, Validation Loss: 1.3901\n",
            "\t \t Training Acc: 0.5796, Validation Acc: 0.5662\n",
            "\t \t Last Char Training Acc: 0.6562, Last Char Validation Acc: 0.5703\n",
            "--------------------------------------------------\n",
            "Iteration 74000, time elapsed: 293.11 seconds\n",
            "\t \t Training Loss: 1.3996, Validation Loss: 1.3840\n",
            "\t \t Training Acc: 0.5649, Validation Acc: 0.5651\n",
            "\t \t Last Char Training Acc: 0.5156, Last Char Validation Acc: 0.5908\n",
            "--------------------------------------------------\n",
            "Iteration 76000, time elapsed: 300.00 seconds\n",
            "\t \t Training Loss: 1.3296, Validation Loss: 1.3863\n",
            "\t \t Training Acc: 0.5913, Validation Acc: 0.5656\n",
            "\t \t Last Char Training Acc: 0.7344, Last Char Validation Acc: 0.5400\n",
            "--------------------------------------------------\n",
            "Iteration 78000, time elapsed: 306.55 seconds\n",
            "\t \t Training Loss: 1.3948, Validation Loss: 1.3931\n",
            "\t \t Training Acc: 0.5688, Validation Acc: 0.5639\n",
            "\t \t Last Char Training Acc: 0.5312, Last Char Validation Acc: 0.5576\n",
            "--------------------------------------------------\n",
            "Iteration 80000, time elapsed: 315.86 seconds\n",
            "\t \t Training Loss: 1.3190, Validation Loss: 1.4044\n",
            "\t \t Training Acc: 0.5967, Validation Acc: 0.5636\n",
            "\t \t Last Char Training Acc: 0.6250, Last Char Validation Acc: 0.5742\n",
            "--------------------------------------------------\n",
            "Iteration 82000, time elapsed: 322.17 seconds\n",
            "\t \t Training Loss: 1.3281, Validation Loss: 1.4152\n",
            "\t \t Training Acc: 0.5884, Validation Acc: 0.5611\n",
            "\t \t Last Char Training Acc: 0.6250, Last Char Validation Acc: 0.6064\n",
            "--------------------------------------------------\n",
            "Iteration 84000, time elapsed: 330.93 seconds\n",
            "\t \t Training Loss: 1.3803, Validation Loss: 1.3903\n",
            "\t \t Training Acc: 0.5581, Validation Acc: 0.5659\n",
            "\t \t Last Char Training Acc: 0.5625, Last Char Validation Acc: 0.5830\n",
            "--------------------------------------------------\n",
            "Iteration 86000, time elapsed: 337.90 seconds\n",
            "\t \t Training Loss: 1.3980, Validation Loss: 1.3639\n",
            "\t \t Training Acc: 0.5674, Validation Acc: 0.5745\n",
            "\t \t Last Char Training Acc: 0.7188, Last Char Validation Acc: 0.5742\n",
            "--------------------------------------------------\n",
            "Iteration 88000, time elapsed: 344.46 seconds\n",
            "\t \t Training Loss: 1.3143, Validation Loss: 1.3923\n",
            "\t \t Training Acc: 0.5796, Validation Acc: 0.5630\n",
            "\t \t Last Char Training Acc: 0.6406, Last Char Validation Acc: 0.5986\n",
            "--------------------------------------------------\n",
            "Iteration 90000, time elapsed: 353.55 seconds\n",
            "\t \t Training Loss: 1.3410, Validation Loss: 1.4175\n",
            "\t \t Training Acc: 0.5791, Validation Acc: 0.5562\n",
            "\t \t Last Char Training Acc: 0.5781, Last Char Validation Acc: 0.5693\n",
            "--------------------------------------------------\n",
            "Iteration 92000, time elapsed: 359.88 seconds\n",
            "\t \t Training Loss: 1.3688, Validation Loss: 1.4136\n",
            "\t \t Training Acc: 0.5659, Validation Acc: 0.5595\n",
            "\t \t Last Char Training Acc: 0.5625, Last Char Validation Acc: 0.5850\n",
            "--------------------------------------------------\n",
            "Iteration 94000, time elapsed: 368.28 seconds\n",
            "\t \t Training Loss: 1.3155, Validation Loss: 1.3786\n",
            "\t \t Training Acc: 0.5811, Validation Acc: 0.5690\n",
            "\t \t Last Char Training Acc: 0.6406, Last Char Validation Acc: 0.6035\n",
            "--------------------------------------------------\n",
            "Iteration 96000, time elapsed: 375.48 seconds\n",
            "\t \t Training Loss: 1.3536, Validation Loss: 1.3877\n",
            "\t \t Training Acc: 0.5752, Validation Acc: 0.5675\n",
            "\t \t Last Char Training Acc: 0.6719, Last Char Validation Acc: 0.6084\n",
            "--------------------------------------------------\n",
            "Iteration 98000, time elapsed: 381.97 seconds\n",
            "\t \t Training Loss: 1.3240, Validation Loss: 1.3849\n",
            "\t \t Training Acc: 0.5815, Validation Acc: 0.5662\n",
            "\t \t Last Char Training Acc: 0.5312, Last Char Validation Acc: 0.5820\n",
            "--------------------------------------------------\n",
            "Iteration 99999, time elapsed: 391.02 seconds\n",
            "\t \t Training Loss: 1.3953, Validation Loss: 1.3856\n",
            "\t \t Training Acc: 0.5566, Validation Acc: 0.5658\n",
            "\t \t Last Char Training Acc: 0.5469, Last Char Validation Acc: 0.5840\n",
            "--------------------------------------------------\n",
            "Training completed in 391.02 seconds.\n"
          ]
        }
      ],
      "source": [
        "time_start = time.time()\n",
        "\n",
        "for it in range(n_iter):\n",
        "\n",
        "    # get a batch of data\n",
        "    inputs, targets = fn.get_batch(train_data, batch_size, seq_len)\n",
        "\n",
        "    # Perform a training step\n",
        "    rng, sub = jax.random.split(rng)\n",
        "    new_params, new_opt_state, metrics = fn.train_step(m1, params, opt_state, inputs, targets, optimizer, rng=sub)\n",
        "\n",
        "    # Update parameters and optimizer state\n",
        "    params = new_params\n",
        "    opt_state = new_opt_state\n",
        "    acc = metrics['acc']\n",
        "    loss = metrics['loss']\n",
        "    last_char_acc = metrics['acc_last']\n",
        "\n",
        "    train_loss_history.append(loss)\n",
        "    train_time_history.append(time.time() - time_start)\n",
        "\n",
        "    if it % (n_iter // 50) == 0 or it == n_iter - 1: # Print every 2% of iterations\n",
        "\n",
        "        # Compute the loss on validation set\n",
        "        batch_size_val = 1024\n",
        "        seq_len_val = 32\n",
        "        val_inputs, val_targets = fn.get_batch(val_data, batch_size_val, seq_len_val)\n",
        "        val_logits = m1.apply({\"params\": params}, val_inputs, deterministic=True)\n",
        "        val_loss, val_metrics = fn.loss_and_metrics(val_logits, val_targets)\n",
        "\n",
        "        # Record validation loss and time\n",
        "        val_acc = val_metrics['acc']\n",
        "        last_char_acc_val = val_metrics['acc_last']\n",
        "        val_loss_history.append(val_loss)\n",
        "        time_elapsed = time.time() - time_start\n",
        "        val_time_history.append(time_elapsed)\n",
        "\n",
        "        # Print training and validation metrics\n",
        "        print(f\"Iteration {it}, time elapsed: {time_elapsed:.2f} seconds\")\n",
        "        print(f\"\\t \\t Training Loss: {loss:.4f}, Validation Loss: {val_loss:.4f}\")\n",
        "        print(f\"\\t \\t Training Acc: {acc:.4f}, Validation Acc: {val_acc:.4f}\")\n",
        "        print(f\"\\t \\t Last Char Training Acc: {last_char_acc:.4f}, Last Char Validation Acc: {last_char_acc_val:.4f}\")\n",
        "        print(\"-\" * 50)\n",
        "\n",
        "print(f\"Training completed in {time.time() - time_start:.2f} seconds.\")"
      ]
    },
    {
      "cell_type": "markdown",
      "id": "1f22e0a4",
      "metadata": {
        "id": "1f22e0a4"
      },
      "source": [
        "## Plot the training and validation loss curves"
      ]
    },
    {
      "cell_type": "code",
      "execution_count": 12,
      "id": "f4cd9351",
      "metadata": {
        "id": "f4cd9351",
        "outputId": "c23e3435-0282-404b-a787-0d7ac95d255a",
        "colab": {
          "base_uri": "https://localhost:8080/",
          "height": 472
        }
      },
      "outputs": [
        {
          "output_type": "display_data",
          "data": {
            "text/plain": [
              "<Figure size 640x480 with 1 Axes>"
            ],
            "image/png": "[encoded data removed]"
          },
          "metadata": {}
        }
      ],
      "source": [
        "# Plot training and validation loss curves\n",
        "plt.plot(train_time_history, train_loss_history, \"-\",label='Training Loss', color='blue')\n",
        "plt.plot(val_time_history, val_loss_history, \"-\", label='Validation Loss', lw = 2, color='red')\n",
        "plt.xlabel(\"Time (seconds)\")\n",
        "plt.ylabel(\"Loss\")\n",
        "plt.legend(loc = \"upper right\")\n",
        "plt.title(\"Training and Validation Loss over Time\")\n",
        "plt.legend()\n",
        "plt.show()"
      ]
    },
    {
      "cell_type": "markdown",
      "id": "11644d30",
      "metadata": {
        "id": "11644d30"
      },
      "source": [
        "## Testing the model on a given prompt"
      ]
    },
    {
      "cell_type": "code",
      "execution_count": 13,
      "id": "3767fd8e",
      "metadata": {
        "id": "3767fd8e",
        "outputId": "78442433-0c82-470e-9137-7dd89ed33026",
        "colab": {
          "base_uri": "https://localhost:8080/"
        }
      },
      "outputs": [
        {
          "output_type": "stream",
          "name": "stdout",
          "text": [
            "Generated ID Shape: (1, 1000)\n",
            "Generated Text:\n",
            "the meaning of life isawhononevuninonenevagniscinononunon son ma genein deaninyeitbmmanabin burevitknurtidatirmonithitolera alendes rallly sa  e  ra ese silde andenga in s hto edic a cz mambsre athan ato eritaly lliesnendemo as s esest st de isponadeca owassuxiverrandev crelederelit bmr choutt londdemyichorearet adenukin tongearereeren jimirogonedemomad d a at kar tiviviad c orodaw t aranongs t ed atouxinn reliveke dge the aly  th ces ci ine anous tridema thid idis aonon dichas the fl e pinhalon ivenetumaman asgedrus pitedo astsirethalamitrgharo ator orelos tinyateya wme abe asttorerroumb sstalelatotulirbnx uratorrilereq busa ophouxlatove icange ade fear adour shiman be k t orret e mataw se sheric sor pp est fd ia ue te haslitst rorto ondoum bhithe cre adena w posten thiviv pisov asire orinandmon tasoumoulovim besas acgenenadigelon cedacateric an rgonisstitspileastsalisangutur dillon govane c tvinind tesndubmanumith ase thos titatsor erarimemn arabinetoratn aturk at e z  b t latcatuss tenagon istacten ors c\n"
          ]
        }
      ],
      "source": [
        "# Test the model on a given prompt\n",
        "prompt = \"the meaning of life is\"\n",
        "encoded_prompt = fn.encode(prompt, chars_to_int)\n",
        "context = encoded_prompt[None, :]\n",
        "\n",
        "B = 1\n",
        "seed = 42\n",
        "generate_len = 1000\n",
        "rng = jax.random.PRNGKey(seed)\n",
        "\n",
        "output_indices = fn.generate_tokens(\n",
        "    model=m1,\n",
        "    params=params,\n",
        "    rng=rng,\n",
        "    context=context,\n",
        "    length=generate_len,\n",
        "    block_size=128,\n",
        "    temperature=0.8,\n",
        "    sample=True,\n",
        "    pad_id=None,\n",
        "    deterministic=True\n",
        ")\n",
        "\n",
        "output_indices = np.array(output_indices)  # Convert from JAX array to NumPy array\n",
        "generated_text = fn.decode(output_indices, int_to_chars)\n",
        "\n",
        "print(\"Generated ID Shape:\", output_indices.shape)\n",
        "print(\"Generated Text:\")\n",
        "print(prompt + generated_text)"
      ]
    }
  ],
  "metadata": {
    "kernelspec": {
      "display_name": "Python 3",
      "name": "python3"
    },
    "language_info": {
      "codemirror_mode": {
        "name": "ipython",
        "version": 3
      },
      "file_extension": ".py",
      "mimetype": "text/x-python",
      "name": "python",
      "nbconvert_exporter": "python",
      "pygments_lexer": "ipython3",
      "version": "3.11.5"
    },
    "colab": {
      "provenance": [],
      "gpuType": "T4"
    },
    "accelerator": "GPU"
  },
  "nbformat": 4,
  "nbformat_minor": 5
}